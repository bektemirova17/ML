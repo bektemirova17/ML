{
 "cells": [
  {
   "cell_type": "markdown",
   "metadata": {},
   "source": [
    "# kNN Hash Example"
   ]
  },
  {
   "cell_type": "code",
   "execution_count": 7,
   "metadata": {},
   "outputs": [],
   "source": [
    "import numpy as np\n",
    "import pandas as pd\n",
    "import math\n",
    "from sklearn.datasets import load_iris\n",
    "from functools import partial\n",
    "from random import random\n",
    "from sklearn.preprocessing import MinMaxScaler\n",
    "from sklearn.neighbors import KNeighborsClassifier\n",
    "from collections import defaultdict\n",
    "from collections import Counter"
   ]
  },
  {
   "cell_type": "markdown",
   "metadata": {},
   "source": [
    "## Iris dataset"
   ]
  },
  {
   "cell_type": "code",
   "execution_count": 8,
   "metadata": {},
   "outputs": [
    {
     "data": {
      "text/plain": [
       "(150, 4)"
      ]
     },
     "execution_count": 8,
     "metadata": {},
     "output_type": "execute_result"
    }
   ],
   "source": [
    "df = load_iris()\n",
    "df.data.shape"
   ]
  },
  {
   "cell_type": "code",
   "execution_count": 19,
   "metadata": {},
   "outputs": [],
   "source": [
    "def f_hash(w,r,b,x):\n",
    "    return int((np.dot(w,x)+b)/r)\n",
    "\n",
    "def distance(x, y):\n",
    "    value = 0\n",
    "    for i in range(x.shape[0]):\n",
    "        value += pow(x[i] - y[0][i], 2)\n",
    "    return math.sqrt(value)\n",
    "    "
   ]
  },
  {
   "cell_type": "code",
   "execution_count": 20,
   "metadata": {},
   "outputs": [],
   "source": [
    "class KNNHash(object):\n",
    "    def __init__(self,m,L,nn):\n",
    "        self.m = m\n",
    "        self.L = L\n",
    "        self.nn = nn\n",
    "\n",
    "    def fit(self,X,y):\n",
    "        self.t_hh = [] #hash table\n",
    "        for j in range(self.L):\n",
    "            f_hh = [] #compositional hash function\n",
    "            for i in range(self.m):\n",
    "                w = np.random.rand(1,X[0].shape[0]) #  weights of a hash function\n",
    "                f_hh.append(partial(f_hash,w = w,r=random(),b=random())) # list of initialized hash function\n",
    "            self.t_hh.append(\n",
    "                (defaultdict(list),f_hh)\n",
    "            )\n",
    "        for n in range(X.shape[0]): \n",
    "            for j in range(self.L):\n",
    "                ind = 0\n",
    "                for i in range(self.m):\n",
    "                    ind = ind + self.t_hh[j][1][i](x=X[n]) #calculation of index in hash table, simply sum of all hash func\n",
    "                self.t_hh[j][0][ind].append((X[n],y[n])) #saving sample into corresponding index\n",
    "                \n",
    "  \n",
    "    \n",
    "    def predict(self,u):\n",
    "            for j in range(self.L):\n",
    "                inds = []\n",
    "                frame = []\n",
    "                labelFrame = []\n",
    "                for i in range(self.m):\n",
    "                    inds.append(self.t_hh[j][1][i](x=u))\n",
    "                cntr = Counter([outp for inpt,outp in self.t_hh[j][0][sum(inds)]])\n",
    "                \n",
    "                for output in self.t_hh[j][0][sum(inds)]: \n",
    "                    frame.append(distance(u, output)) \n",
    "                    labelFrame.append(output[1]) \n",
    "                ans = frame.index(min(frame)) \n",
    "                print(min(frame)) \n",
    "                print(\"ans: \" + str(labelFrame[ans])) \n"
   ]
  },
  {
   "cell_type": "code",
   "execution_count": 21,
   "metadata": {},
   "outputs": [],
   "source": [
    "scaler = MinMaxScaler()\n",
    "scaler.fit(df.data)\n",
    "x = scaler.transform(df.data)\n",
    "y = df.target\n"
   ]
  },
  {
   "cell_type": "code",
   "execution_count": 22,
   "metadata": {},
   "outputs": [
    {
     "name": "stdout",
     "output_type": "stream",
     "text": [
      "-------------\n",
      "0\n",
      "0.03254041656427031\n",
      "ans: 0\n",
      "0.03254041656427031\n",
      "ans: 0\n",
      "0.03254041656427031\n",
      "ans: 0\n",
      "0.03254041656427031\n",
      "ans: 0\n",
      "-------------\n",
      "1\n",
      "0.06798027147519138\n",
      "ans: 1\n",
      "0.1029623988718487\n",
      "ans: 1\n",
      "0.06798027147519138\n",
      "ans: 1\n",
      "0.05007710104811091\n",
      "ans: 1\n",
      "-------------\n",
      "2\n",
      "0.22847630881516148\n",
      "ans: 1\n",
      "0.05794021820301701\n",
      "ans: 2\n",
      "0.05794021820301701\n",
      "ans: 2\n",
      "0.13465777381712032\n",
      "ans: 2\n"
     ]
    }
   ],
   "source": [
    "\n",
    "knnhash = KNNHash(4,4,4)\n",
    "test1x = x[0]\n",
    "test2x = x[75]\n",
    "test3x = x[149]\n",
    "\n",
    "test1y = y[0]\n",
    "test2y = y[75]\n",
    "test3y = y[149]\n",
    "x = np.delete(x,[0,75,149],axis=0)\n",
    "y = np.delete(y,[0,75,149],axis=0)\n",
    "print(\"-------------\")\n",
    "knnhash.fit(x,y)\n",
    "print(test1y)\n",
    "knnhash.predict(test1x)\n",
    "print(\"-------------\")\n",
    "knnhash.fit(x,y)\n",
    "print(test2y)\n",
    "knnhash.predict(test2x)\n",
    "print(\"-------------\")\n",
    "knnhash.fit(x,y)\n",
    "print(test3y)\n",
    "knnhash.predict(test3x)"
   ]
  },
  {
   "cell_type": "markdown",
   "metadata": {},
   "source": [
    "* Each string above corresponds to the particular hash table. And index in counter maps to the class. For example Counter({0: 13, 1: 1}) means that there are 13 samples close to \"u\" with \"0\" class labels and 1 sample with \"1\" class label."
   ]
  }
 ],
 "metadata": {
  "anaconda-cloud": {},
  "kernelspec": {
   "display_name": "Python 3",
   "language": "python",
   "name": "python3"
  },
  "language_info": {
   "codemirror_mode": {
    "name": "ipython",
    "version": 3
   },
   "file_extension": ".py",
   "mimetype": "text/x-python",
   "name": "python",
   "nbconvert_exporter": "python",
   "pygments_lexer": "ipython3",
   "version": "3.6.5"
  }
 },
 "nbformat": 4,
 "nbformat_minor": 2
}
